{
 "cells": [
  {
   "cell_type": "code",
   "execution_count": null,
   "id": "492e3321-8580-4134-87f4-dd9ba88b19c5",
   "metadata": {},
   "outputs": [],
   "source": []
  }
 ],
 "metadata": {
  "kernelspec": {
   "display_name": "",
   "name": ""
  },
  "language_info": {
   "name": ""
  }
 },
 "nbformat": 4,
 "nbformat_minor": 5
}
